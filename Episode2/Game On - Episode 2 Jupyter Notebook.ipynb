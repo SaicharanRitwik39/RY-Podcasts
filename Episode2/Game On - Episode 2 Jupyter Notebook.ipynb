{
 "cells": [
  {
   "attachments": {},
   "cell_type": "markdown",
   "metadata": {},
   "source": [
    "# Game On! Let's dive into Game Theory - Episode 2."
   ]
  },
  {
   "cell_type": "markdown",
   "metadata": {},
   "source": [
    "### Instructions to use this Jupyter notebook:\n",
    "Install the following libraries by running the cell below (or) use the command prompt in your PC to do so. \n",
    "Go through each cell and try changing the payoffs to find the equilibria as you wish. We included simulations of the games discussed in the podcast and a few more as well. "
   ]
  },
  {
   "cell_type": "code",
   "execution_count": null,
   "metadata": {},
   "outputs": [],
   "source": [
    "!pip install nashpy\n",
    "!pip install axelrod\n",
    "!pip install -U pyYAML"
   ]
  },
  {
   "cell_type": "markdown",
   "metadata": {},
   "source": [
    "Once done with the installation, you can import the required libraries. "
   ]
  },
  {
   "cell_type": "markdown",
   "metadata": {},
   "source": [
    "NashPy Documentation: https://nashpy.readthedocs.io/en/stable/"
   ]
  },
  {
   "cell_type": "markdown",
   "metadata": {},
   "source": [
    "AxelRod Documentation: https://axelrod.readthedocs.io/en/stable/"
   ]
  },
  {
   "cell_type": "code",
   "execution_count": null,
   "metadata": {},
   "outputs": [],
   "source": [
    "import nashpy as nash\n",
    "import numpy as np\n",
    "import axelrod as axl"
   ]
  },
  {
   "cell_type": "markdown",
   "metadata": {},
   "source": [
    "### Let's create a basic game using numpy arrays.\n",
    "The payoff matrix is constructed as follows: Define the matrices individually for the row player (P1 by convention) and column player (P2 by convention)."
   ]
  },
  {
   "cell_type": "code",
   "execution_count": null,
   "metadata": {},
   "outputs": [],
   "source": [
    "#Create the Payoff Matrix.\n",
    "P1 = np.array([[6,1],[10,3]])\n",
    "P2 = np.array([[6,10],[1,3]])\n",
    "pd = nash.Game(P1,P2)\n",
    "pd"
   ]
  },
  {
   "cell_type": "markdown",
   "metadata": {},
   "source": [
    "### With this understanding, let's create the games discussed in the podcast."
   ]
  },
  {
   "cell_type": "markdown",
   "metadata": {},
   "source": [
    "#### Prisoner's Dilemma."
   ]
  },
  {
   "cell_type": "markdown",
   "metadata": {},
   "source": [
    "As discussed in the episode, there are two players in this game. They have two actions, choose to confess or stay quiet. If both of them confess, then they get 8 years each of jailtime. If both stay quiet, both of them get 1 year of jailtime. If one chooses to confess and other one keeps quiet then the one who confesses gets away with the crime and the other one gets 10 years of jailtime. Given this situation, let's formulate the matrix for this game:"
   ]
  },
  {
   "cell_type": "code",
   "execution_count": null,
   "metadata": {},
   "outputs": [],
   "source": [
    "P3 = np.array([[-8,0],[-10,-1]])\n",
    "P4 = np.array([[-8,-10],[0,-1]])    \n",
    "pd_1 = nash.Game(P3,P4)\n",
    "pd_1\n",
    "# The minus indicates a certain loss (the number of years spent in jail). You could technically avoid the negative sign \n",
    "# but in that case you will have to interpret the opposite of the result given by the support enumeration method."
   ]
  },
  {
   "cell_type": "markdown",
   "metadata": {},
   "source": [
    "#### Matching Pennies."
   ]
  },
  {
   "cell_type": "markdown",
   "metadata": {},
   "source": [
    "This game will demonstrate the concept of mixed strategy Nash equilibrium. It is fairly simple, if the tosses match then player 1 wins 1 rupee, else player 2 wins 1 rupee. This is an example of a zero sum game, where one player's loss is the other player's profit. "
   ]
  },
  {
   "cell_type": "code",
   "execution_count": null,
   "metadata": {},
   "outputs": [],
   "source": [
    "P5 = np.array([[1,-1],[-1,1]])\n",
    "P6 = np.array([[-1,1],[1,-1]])\n",
    "mp = nash.Game(P5,P6)\n",
    "mp"
   ]
  },
  {
   "cell_type": "markdown",
   "metadata": {},
   "source": [
    "### With the games set in the normal form, it is time to find their Nash equilibrium."
   ]
  },
  {
   "cell_type": "markdown",
   "metadata": {},
   "source": [
    "For this we use the support enumeration method. Let us find the Nash equilibrium of Prisoner's Dilemma."
   ]
  },
  {
   "cell_type": "code",
   "execution_count": null,
   "metadata": {},
   "outputs": [],
   "source": [
    "equilibria = pd_1.support_enumeration()\n",
    "for eq in equilibria:\n",
    "    print(eq)"
   ]
  },
  {
   "cell_type": "markdown",
   "metadata": {},
   "source": [
    "Clearly the Nash equilibrium of PD is for both the player's to confess. How to interpret this result? Both players are to play their action of confessing with probability 1. This is the irony of Prisoner's dilemma. From a third person perspective we know that it is better for both of them to keep quiet. But the fear of the other person opening up takes over and both the players tend to confess. In more technical terms, the strictly dominant Nash equilibrium is the only non-Pareto-optimal outcome."
   ]
  },
  {
   "cell_type": "markdown",
   "metadata": {},
   "source": [
    "Now, let's do it for matching pennies."
   ]
  },
  {
   "cell_type": "code",
   "execution_count": null,
   "metadata": {},
   "outputs": [],
   "source": [
    "equilibria = mp.support_enumeration()\n",
    "for eq in equilibria:\n",
    "    print(eq)"
   ]
  },
  {
   "cell_type": "markdown",
   "metadata": {},
   "source": [
    "Clearly, the strategy is to play heads 50% of the times and tails 50% of the times. Also, since matching pennies is a zero sum game, the following code would also suffice:"
   ]
  },
  {
   "cell_type": "code",
   "execution_count": null,
   "metadata": {},
   "outputs": [],
   "source": [
    "P7 = np.array([[1,-1],[-1,1]])\n",
    "mp = nash.Game(P7)\n",
    "mp"
   ]
  },
  {
   "cell_type": "markdown",
   "metadata": {},
   "source": [
    "Want to try it out for a random game?"
   ]
  },
  {
   "cell_type": "code",
   "execution_count": null,
   "metadata": {},
   "outputs": [],
   "source": [
    "P8 = np.array([[1,1,3,2],[2,3,4,3],[5,1,1,4]])\n",
    "P9 = np.array([[3,2,2,4],[1,4,2,0],[3,3,2,3]])\n",
    "p = nash.Game(P5,P6)\n",
    "p"
   ]
  },
  {
   "cell_type": "code",
   "execution_count": null,
   "metadata": {},
   "outputs": [],
   "source": [
    "equilibria = p.support_enumeration()\n",
    "for eq in equilibria:\n",
    "    print(eq)"
   ]
  },
  {
   "cell_type": "markdown",
   "metadata": {},
   "source": [
    "#### Battle of the Sexes."
   ]
  },
  {
   "cell_type": "code",
   "execution_count": null,
   "metadata": {},
   "outputs": [],
   "source": [
    "P10 = np.array([[2,0],[0,1]])\n",
    "P11 = np.array([[2,0],[0,1]])\n",
    "bos = nash.Game(P10,P11)\n",
    "bos"
   ]
  },
  {
   "cell_type": "code",
   "execution_count": null,
   "metadata": {},
   "outputs": [],
   "source": [
    "equilibria = bos.support_enumeration()\n",
    "for eq in equilibria:\n",
    "    print(eq)"
   ]
  },
  {
   "cell_type": "markdown",
   "metadata": {},
   "source": [
    "### A little challenge for you! "
   ]
  },
  {
   "cell_type": "markdown",
   "metadata": {},
   "source": [
    "Try finding out the Nash equilibrium for the following game. Try using pen and paper and then by using the Python code as well. Just fill in the blanks (indicated by ?) for the code."
   ]
  },
  {
   "cell_type": "markdown",
   "metadata": {},
   "source": [
    "$$\n",
    "\\begin{matrix}\n",
    "(2,2) & (1,3) & (0,1) \\\\\n",
    "(3,1) & (0,0) & (0,0) \\\\\n",
    "(1,0) & (0,0) & (0,0) \\\\\n",
    "\\end{matrix}\n",
    "$$\n"
   ]
  },
  {
   "cell_type": "code",
   "execution_count": null,
   "metadata": {},
   "outputs": [],
   "source": [
    "P12 = np.array([[?,?,?],[?,?,?],[?,?,?]])\n",
    "P13 = np.array([[?,?,?],[?,?,?],[?,?,?]])\n",
    "challenge = nash.Game(?,?)\n",
    "challenge"
   ]
  },
  {
   "cell_type": "code",
   "execution_count": null,
   "metadata": {},
   "outputs": [],
   "source": [
    "equilibria = challenge.support_enumeration() \n",
    "for eq in ? :\n",
    "    print(?)"
   ]
  },
  {
   "cell_type": "markdown",
   "metadata": {},
   "source": [
    "### With that we can wrap up normal form games. It's time to play around with extensive games."
   ]
  },
  {
   "cell_type": "markdown",
   "metadata": {},
   "source": [
    "The following is a list of extensive game strategies."
   ]
  },
  {
   "cell_type": "code",
   "execution_count": null,
   "metadata": {},
   "outputs": [],
   "source": [
    "axl.all_strategies"
   ]
  },
  {
   "cell_type": "markdown",
   "metadata": {},
   "source": [
    "In the following game one player always cooperates whereas the other always alternates. This game is played for 7 turns."
   ]
  },
  {
   "cell_type": "code",
   "execution_count": null,
   "metadata": {},
   "outputs": [],
   "source": [
    "players = (axl.Cooperator(), axl.Alternator())     \n",
    "match1 = axl.Match(players, turns = 7)\n",
    "match1.play()"
   ]
  },
  {
   "cell_type": "markdown",
   "metadata": {},
   "source": [
    "Let's consider another game. In this one player uses a tit for tat strategy and the other one plays randomly. The game goes on for 20 turns"
   ]
  },
  {
   "cell_type": "code",
   "execution_count": null,
   "metadata": {},
   "outputs": [],
   "source": [
    "players = (axl.TitForTat(), axl.Random())\n",
    "match2 = axl.Match(players, turns = 20)\n",
    "match2.play()"
   ]
  },
  {
   "cell_type": "markdown",
   "metadata": {},
   "source": [
    "The following lines of code create and run a simple tournament."
   ]
  },
  {
   "cell_type": "code",
   "execution_count": null,
   "metadata": {},
   "outputs": [],
   "source": [
    "players = [axl.Cooperator(), axl.Defector(), axl.TitForTat(), axl.Random()]\n",
    "players"
   ]
  },
  {
   "cell_type": "code",
   "execution_count": null,
   "metadata": {},
   "outputs": [],
   "source": [
    "tournament = axl.Tournament(players)\n",
    "results = tournament.play()\n",
    "results.ranked_names"
   ]
  },
  {
   "cell_type": "markdown",
   "metadata": {},
   "source": [
    "We can use a boxplot to visualize these results."
   ]
  },
  {
   "cell_type": "code",
   "execution_count": null,
   "metadata": {},
   "outputs": [],
   "source": [
    "plot = axl.Plot(results)\n",
    "p = plot.boxplot()\n",
    "p.show()"
   ]
  },
  {
   "cell_type": "markdown",
   "metadata": {},
   "source": [
    "The following code gives the distribution of wins for each strategy."
   ]
  },
  {
   "cell_type": "code",
   "execution_count": null,
   "metadata": {},
   "outputs": [],
   "source": [
    "p = plot.winplot()\n",
    "p.show()"
   ]
  },
  {
   "cell_type": "markdown",
   "metadata": {},
   "source": [
    "We can also easily view the payoff matrix for this."
   ]
  },
  {
   "cell_type": "code",
   "execution_count": null,
   "metadata": {},
   "outputs": [],
   "source": [
    "p = plot.payoff()\n",
    "p.show()"
   ]
  },
  {
   "cell_type": "markdown",
   "metadata": {},
   "source": [
    "## That wraps it up. Hope you found some value in our endeavour! See you again in further episodes!"
   ]
  }
 ],
 "metadata": {
  "kernelspec": {
   "display_name": "Python 3",
   "language": "python",
   "name": "python3"
  },
  "language_info": {
   "codemirror_mode": {
    "name": "ipython",
    "version": 3
   },
   "file_extension": ".py",
   "mimetype": "text/x-python",
   "name": "python",
   "nbconvert_exporter": "python",
   "pygments_lexer": "ipython3",
   "version": "3.8.5"
  }
 },
 "nbformat": 4,
 "nbformat_minor": 4
}
